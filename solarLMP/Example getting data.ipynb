{
 "cells": [
  {
   "cell_type": "code",
   "execution_count": 5,
   "metadata": {
    "collapsed": false
   },
   "outputs": [],
   "source": [
    "import pandas as pd\n",
    "import numpy as np\n",
    "import io, zipfile\n",
    "import urllib2\n",
    "from cStringIO import StringIO\n",
    "import matplotlib.pyplot as plt\n",
    "from mpl_toolkits.basemap import Basemap\n",
    "from pandas.tools.plotting import scatter_matrix\n",
    "import copy\n",
    "import time\n",
    "import sys\n",
    "import time\n",
    "import datetime\n",
    "\n",
    "\"\"\"Load/re-load class definitions\"\"\"\n",
    "%run dataCAISO.py\n",
    "%run dataCAISO_LmpSolarValue.py\n",
    "\n",
    "\"\"\"LOGGING\"\"\"\n",
    "print_level = 3 #level to print to screen  -  0: none, 1: errors, 2: info, 3: debug\n",
    "logfile = ( 'logs/main/main - %s.log' % datetime.datetime.strftime(datetime.datetime.now(), '%Y-%m-%d'))\n",
    "%run logging_setup.py\n",
    "logging_setup(print_level,logfile)"
   ]
  },
  {
   "cell_type": "code",
   "execution_count": null,
   "metadata": {
    "collapsed": false
   },
   "outputs": [],
   "source": []
  },
  {
   "cell_type": "code",
   "execution_count": 6,
   "metadata": {
    "collapsed": false
   },
   "outputs": [
    {
     "name": "stdout",
     "output_type": "stream",
     "text": [
      "New dataCAISO_LmpSolarValue created, 389 nodes, args: () and kwargs: {'debug': True, 'startdate': '20150101T07:00-0000', 'enddate': '20150102T07:00-0000', 'bbox': [37.2, 38.1, -122.5, -121.7]}\n"
     ]
    }
   ],
   "source": [
    "\"\"\"CREATE LMPSOLARVALUE INSTANCE\"\"\"\n",
    "test = dataCAISO_LmpSolarValue(startdate='20150101T07:00-0000', \n",
    "                 enddate='20150102T07:00-0000', debug=True,\n",
    "                bbox = [37.2,38.1,-122.5,-121.7])"
   ]
  },
  {
   "cell_type": "code",
   "execution_count": null,
   "metadata": {
    "collapsed": false
   },
   "outputs": [],
   "source": [
    "test.getLmpAll(test.startdate)"
   ]
  },
  {
   "cell_type": "code",
   "execution_count": null,
   "metadata": {
    "collapsed": false
   },
   "outputs": [],
   "source": [
    "\"\"\"FETCH DATA METHOD\"\"\"\n",
    "filename = 'data/test - main.h5'\n",
    "test.saveNodesLmpSolarThreaded(filename,30,methodAll=True)"
   ]
  },
  {
   "cell_type": "code",
   "execution_count": 10,
   "metadata": {
    "collapsed": false
   },
   "outputs": [
    {
     "name": "stdout",
     "output_type": "stream",
     "text": [
      "<class 'pandas.io.pytables.HDFStore'>\n",
      "File path: data/LmpSolar - CA - Jan1-Jan7.h5\n",
      "/dfLmp                       frame_table  (typ->appendable_multi,nrows->369336,ncols->6,indexers->[index],dc->[LMP_CONG_PRC,LMP_ENE_PRC,LMP_LOSS_PRC,LMP_PRC])                \n",
      "/dfLmpSolar                  frame_table  (typ->appendable_multi,nrows->366384,ncols->8,indexers->[index],dc->[LMP_CONG_PRC,LMP_ENE_PRC,LMP_LOSS_PRC,LMP_PRC,GHI,Solar_Value])\n",
      "/dfNodeSolarValue            frame_table  (typ->appendable,nrows->2259,ncols->6,indexers->[index],dc->[type,latitude,longitude,LMP_PRC,GHI,Solar_Value])                      \n",
      "/dfSolar                     frame_table  (typ->appendable_multi,nrows->380757,ncols->3,indexers->[index],dc->[GHI])                                                          \n",
      "\n",
      "\n",
      "True\n"
     ]
    }
   ],
   "source": [
    "\"\"\"INSPECT STORE\"\"\"\n",
    "store = pd.HDFStore('data/LmpSolar - CA - Jan1-Jan7.h5')\n",
    "print store \n",
    "print '\\n\\n' + str('KERMAN_6_N001' in store['dfLmp'].index)\n",
    "#store.close()\n",
    "\n",
    "#print '\\n\\n'\n",
    "#print pd.read_hdf('data/LmpSolar - SFBay - Jan1-Jan2.h5','dfSolar').info()"
   ]
  },
  {
   "cell_type": "code",
   "execution_count": 12,
   "metadata": {
    "collapsed": false
   },
   "outputs": [
    {
     "data": {
      "text/plain": [
       "True"
      ]
     },
     "execution_count": 12,
     "metadata": {},
     "output_type": "execute_result"
    }
   ],
   "source": [
    "'KERMAN_6_N001' in store.dfLmp.index"
   ]
  },
  {
   "cell_type": "code",
   "execution_count": 13,
   "metadata": {
    "collapsed": false
   },
   "outputs": [
    {
     "data": {
      "text/html": [
       "<div>\n",
       "<table border=\"1\" class=\"dataframe\">\n",
       "  <thead>\n",
       "    <tr style=\"text-align: right;\">\n",
       "      <th></th>\n",
       "      <th>XML_DATA_ITEM</th>\n",
       "      <th>LMP_CONG_PRC</th>\n",
       "      <th>LMP_ENE_PRC</th>\n",
       "      <th>LMP_LOSS_PRC</th>\n",
       "      <th>LMP_PRC</th>\n",
       "    </tr>\n",
       "    <tr>\n",
       "      <th>NODE</th>\n",
       "      <th>Time_UTC</th>\n",
       "      <th></th>\n",
       "      <th></th>\n",
       "      <th></th>\n",
       "      <th></th>\n",
       "    </tr>\n",
       "  </thead>\n",
       "  <tbody>\n",
       "    <tr>\n",
       "      <th rowspan=\"5\" valign=\"top\">KERMAN_6_N001</th>\n",
       "      <th>2015-01-02 00:00:00</th>\n",
       "      <td>0.0</td>\n",
       "      <td>44.48399</td>\n",
       "      <td>1.26779</td>\n",
       "      <td>45.75178</td>\n",
       "    </tr>\n",
       "    <tr>\n",
       "      <th>2015-01-02 01:00:00</th>\n",
       "      <td>0.0</td>\n",
       "      <td>50.17954</td>\n",
       "      <td>0.53190</td>\n",
       "      <td>50.71145</td>\n",
       "    </tr>\n",
       "    <tr>\n",
       "      <th>2015-01-02 02:00:00</th>\n",
       "      <td>0.0</td>\n",
       "      <td>58.46200</td>\n",
       "      <td>0.25139</td>\n",
       "      <td>58.71339</td>\n",
       "    </tr>\n",
       "    <tr>\n",
       "      <th>2015-01-02 03:00:00</th>\n",
       "      <td>0.0</td>\n",
       "      <td>51.71548</td>\n",
       "      <td>0.30512</td>\n",
       "      <td>52.02060</td>\n",
       "    </tr>\n",
       "    <tr>\n",
       "      <th>2015-01-02 04:00:00</th>\n",
       "      <td>0.0</td>\n",
       "      <td>52.05365</td>\n",
       "      <td>0.42163</td>\n",
       "      <td>52.47528</td>\n",
       "    </tr>\n",
       "  </tbody>\n",
       "</table>\n",
       "</div>"
      ],
      "text/plain": [
       "XML_DATA_ITEM                      LMP_CONG_PRC  LMP_ENE_PRC  LMP_LOSS_PRC  \\\n",
       "NODE          Time_UTC                                                       \n",
       "KERMAN_6_N001 2015-01-02 00:00:00           0.0     44.48399       1.26779   \n",
       "              2015-01-02 01:00:00           0.0     50.17954       0.53190   \n",
       "              2015-01-02 02:00:00           0.0     58.46200       0.25139   \n",
       "              2015-01-02 03:00:00           0.0     51.71548       0.30512   \n",
       "              2015-01-02 04:00:00           0.0     52.05365       0.42163   \n",
       "\n",
       "XML_DATA_ITEM                       LMP_PRC  \n",
       "NODE          Time_UTC                       \n",
       "KERMAN_6_N001 2015-01-02 00:00:00  45.75178  \n",
       "              2015-01-02 01:00:00  50.71145  \n",
       "              2015-01-02 02:00:00  58.71339  \n",
       "              2015-01-02 03:00:00  52.02060  \n",
       "              2015-01-02 04:00:00  52.47528  "
      ]
     },
     "execution_count": 13,
     "metadata": {},
     "output_type": "execute_result"
    }
   ],
   "source": [
    "store.dfLmp.head()"
   ]
  },
  {
   "cell_type": "code",
   "execution_count": null,
   "metadata": {
    "collapsed": false
   },
   "outputs": [],
   "source": []
  },
  {
   "cell_type": "code",
   "execution_count": null,
   "metadata": {
    "collapsed": false
   },
   "outputs": [],
   "source": []
  },
  {
   "cell_type": "code",
   "execution_count": null,
   "metadata": {
    "collapsed": false
   },
   "outputs": [],
   "source": []
  },
  {
   "cell_type": "code",
   "execution_count": null,
   "metadata": {
    "collapsed": false
   },
   "outputs": [],
   "source": [
    "\n"
   ]
  },
  {
   "cell_type": "code",
   "execution_count": null,
   "metadata": {
    "collapsed": false
   },
   "outputs": [],
   "source": []
  },
  {
   "cell_type": "code",
   "execution_count": null,
   "metadata": {
    "collapsed": false
   },
   "outputs": [],
   "source": []
  },
  {
   "cell_type": "code",
   "execution_count": null,
   "metadata": {
    "collapsed": false
   },
   "outputs": [],
   "source": [
    "\"\"\"CREATE DATACAISO INSTANCE\"\"\"\n",
    "test = dataCAISO(startdate='20141231T13:00-0000', \n",
    "                 enddate='20150110T13:00-0000', debug=True,\n",
    "                bbox = [37.6,37.9,-122.5,-122.3])\n",
    "test.dfNodeLocations.info()"
   ]
  },
  {
   "cell_type": "code",
   "execution_count": null,
   "metadata": {
    "collapsed": false
   },
   "outputs": [],
   "source": [
    "\"\"\"Get single node lmp as mi_df\"\"\"\n",
    "\n",
    "#data = test.getNodeLmpThreaded('KERMAN_6_N001',thread_days=1)"
   ]
  },
  {
   "cell_type": "code",
   "execution_count": null,
   "metadata": {
    "collapsed": true
   },
   "outputs": [],
   "source": []
  },
  {
   "cell_type": "code",
   "execution_count": null,
   "metadata": {
    "collapsed": false
   },
   "outputs": [],
   "source": [
    "\"\"\"CREATE LMP SOLAR VALUE INSTANCE\"\"\"\n",
    "\n",
    "SolarValue = dataCAISO_LmpSolarValue(startdate='20141231T13:00-0000', enddate='20150101T15:00-0000')\n",
    "SolarValue.dfLmpSolar.head(2)\n",
    "#SolarValue.dfLmpSolar.sample(2)\n",
    "#SolarValue.dfLmpSolar.describe()\n",
    "#SolarValue.dfLmpSolar.info()\n",
    "\n"
   ]
  },
  {
   "cell_type": "code",
   "execution_count": null,
   "metadata": {
    "collapsed": false
   },
   "outputs": [],
   "source": [
    "\"\"\"Examples of selecting data\"\"\"\n",
    "\n",
    "SolarValue.dfLmpSolar[SolarValue.dfLmpSolar.index.get_level_values('Time_UTC')>'20150101'].head(2)"
   ]
  },
  {
   "cell_type": "code",
   "execution_count": null,
   "metadata": {
    "collapsed": false
   },
   "outputs": [],
   "source": [
    "\"\"\"Save to hdf and read back a slice\"\"\"\n",
    "\n",
    "SolarValue.dfLmpSolar.to_hdf('data/test.h5','dfLmpSolar',mode='w',format='table')\n",
    "pd.read_hdf('data/test.h5','dfLmpSolar',where='Time_UTC>20150101').head(2)"
   ]
  },
  {
   "cell_type": "code",
   "execution_count": null,
   "metadata": {
    "collapsed": false
   },
   "outputs": [],
   "source": []
  },
  {
   "cell_type": "code",
   "execution_count": null,
   "metadata": {
    "collapsed": false
   },
   "outputs": [],
   "source": []
  },
  {
   "cell_type": "code",
   "execution_count": null,
   "metadata": {
    "collapsed": false
   },
   "outputs": [],
   "source": []
  },
  {
   "cell_type": "code",
   "execution_count": null,
   "metadata": {
    "collapsed": false
   },
   "outputs": [],
   "source": []
  },
  {
   "cell_type": "code",
   "execution_count": null,
   "metadata": {
    "collapsed": true
   },
   "outputs": [],
   "source": []
  },
  {
   "cell_type": "code",
   "execution_count": null,
   "metadata": {
    "collapsed": true
   },
   "outputs": [],
   "source": []
  }
 ],
 "metadata": {
  "anaconda-cloud": {},
  "kernelspec": {
   "display_name": "Python [default]",
   "language": "python",
   "name": "python2"
  },
  "language_info": {
   "codemirror_mode": {
    "name": "ipython",
    "version": 2
   },
   "file_extension": ".py",
   "mimetype": "text/x-python",
   "name": "python",
   "nbconvert_exporter": "python",
   "pygments_lexer": "ipython2",
   "version": "2.7.12"
  }
 },
 "nbformat": 4,
 "nbformat_minor": 1
}
